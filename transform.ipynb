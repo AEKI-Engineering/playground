{
 "cells": [
  {
   "cell_type": "markdown",
   "metadata": {},
   "source": [
    "# Transform dataset\n",
    "\n",
    "Transform COCO dataset to include only selected classes.\n",
    "\n",
    "Filters annotations by defined target (furniture) classes, and maps class labels to our list of class (from dataset .yaml file)"
   ]
  },
  {
   "cell_type": "code",
   "execution_count": 20,
   "metadata": {},
   "outputs": [],
   "source": [
    "import time\n",
    "from tqdm import tqdm\n",
    "from pathlib import Path"
   ]
  },
  {
   "cell_type": "code",
   "execution_count": 21,
   "metadata": {},
   "outputs": [],
   "source": [
    "# Root directory\n",
    "DATASET_ROOT_DIR: str = \"../datasets/coco\"\n",
    "\n",
    "# Labels directory\n",
    "LABELS_DIR: str = \"labels\"\n",
    "\n",
    "IMAGES_DIR: str = \"images\"\n",
    "\n",
    "COCO_FURNITURE_CLASSES: list = [13, 56, 57, 58, 59, 60, 61, 71, 72, 75]\n",
    "\n",
    "COCO_AEKI_CLASS_MAP: dict = {\n",
    "    \"13\" : \"0\",\n",
    "    \"56\" : \"1\",\n",
    "    \"57\" : \"2\",\n",
    "    \"58\" : \"3\",\n",
    "    \"59\" : \"4\",\n",
    "    \"60\" : \"5\",\n",
    "    \"61\" : \"6\",\n",
    "    \"71\" : \"7\",\n",
    "    \"72\" : \"8\",\n",
    "    \"75\" : \"9\"\n",
    "}"
   ]
  },
  {
   "cell_type": "markdown",
   "metadata": {},
   "source": [
    "# Filter classes"
   ]
  },
  {
   "cell_type": "code",
   "execution_count": 23,
   "metadata": {},
   "outputs": [
    {
     "name": "stdout",
     "output_type": "stream",
     "text": [
      "Reading labels...\n"
     ]
    },
    {
     "name": "stderr",
     "output_type": "stream",
     "text": [
      "100%|██████████| 122218/122218 [00:07<00:00, 16162.80it/s]\n"
     ]
    },
    {
     "name": "stdout",
     "output_type": "stream",
     "text": [
      "Removing images...\n"
     ]
    },
    {
     "name": "stderr",
     "output_type": "stream",
     "text": [
      "100%|██████████| 83938/83938 [00:13<00:00, 6352.93it/s]\n"
     ]
    },
    {
     "name": "stdout",
     "output_type": "stream",
     "text": [
      "Removing files...\n"
     ]
    },
    {
     "name": "stderr",
     "output_type": "stream",
     "text": [
      "100%|██████████| 82869/82869 [00:13<00:00, 6330.56it/s]\n"
     ]
    },
    {
     "name": "stdout",
     "output_type": "stream",
     "text": [
      "Removing classes from labels and renaming classes...\n"
     ]
    },
    {
     "name": "stderr",
     "output_type": "stream",
     "text": [
      "100%|██████████| 39349/39349 [00:06<00:00, 6332.01it/s]"
     ]
    },
    {
     "name": "stdout",
     "output_type": "stream",
     "text": [
      "Done! Finished in 41.22528312500799 seconds.\n"
     ]
    },
    {
     "name": "stderr",
     "output_type": "stream",
     "text": [
      "\n"
     ]
    }
   ],
   "source": [
    "start = time.perf_counter()\n",
    "\n",
    "# Define few lists\n",
    "furniture_labels = []\n",
    "furniture_images = []\n",
    "\n",
    "# Read labels and get only those for furniture objects\n",
    "labels_paths = list(Path(f\"{DATASET_ROOT_DIR}/{LABELS_DIR}\").rglob(\"*.txt\"))\n",
    "\n",
    "print(\"Reading labels...\")\n",
    "for label in tqdm(labels_paths):\n",
    "    with open(label, 'r') as f:\n",
    "        for line in f:\n",
    "            # Cast to int for faster list search\n",
    "            bbox_class = int(line.strip().split(\" \")[0])\n",
    "            if bbox_class in COCO_FURNITURE_CLASSES:\n",
    "                furniture_labels.append(label)\n",
    "                furniture_images.append(Path(str(label.with_suffix(\".jpg\")).replace(LABELS_DIR, IMAGES_DIR)))\n",
    "                break\n",
    "\n",
    "# Remove images \n",
    "images_paths = list(Path(f\"{DATASET_ROOT_DIR}/{IMAGES_DIR}\").rglob(\"*.jpg\"))\n",
    "\n",
    "print(\"Removing images...\")\n",
    "for img in tqdm(list(set(images_paths) - set(furniture_images))):\n",
    "    img.unlink()\n",
    "\n",
    "# Remove labels\n",
    "print(\"Removing labels...\")\n",
    "for label in tqdm(list(set(labels_paths) - set(furniture_labels))):\n",
    "    label.unlink()\n",
    "\n",
    "# Remove lines with classes not in list and rename class name\n",
    "print(\"Removing classes from labels and mapping classes...\")\n",
    "for label in tqdm(furniture_labels):\n",
    "    with open(label, 'r+') as f:\n",
    "        lines = f.readlines()\n",
    "        # Set file handle at the beginning of the file\n",
    "        f.seek(0)\n",
    "        # Read lines from file\n",
    "        for line in lines:\n",
    "            bbox_class = line.strip().split(\" \")[0]\n",
    "            if int(bbox_class) in COCO_FURNITURE_CLASSES:\n",
    "                # Replace bbox class with new, mapped one and write to file\n",
    "                # Trailing space is added to replace class label only\n",
    "                f.write(line.replace(bbox_class + \" \", COCO_AEKI_CLASS_MAP[bbox_class] + \" \"))\n",
    "        # Truncate file to current stream\n",
    "        f.truncate()\n",
    "\n",
    "end = time.perf_counter()\n",
    "\n",
    "print(f\"Done! Finished in {end - start} seconds.\")\n"
   ]
  }
 ],
 "metadata": {
  "kernelspec": {
   "display_name": "Python 3.10.6 64-bit",
   "language": "python",
   "name": "python3"
  },
  "language_info": {
   "codemirror_mode": {
    "name": "ipython",
    "version": 3
   },
   "file_extension": ".py",
   "mimetype": "text/x-python",
   "name": "python",
   "nbconvert_exporter": "python",
   "pygments_lexer": "ipython3",
   "version": "3.10.6"
  },
  "orig_nbformat": 4,
  "vscode": {
   "interpreter": {
    "hash": "b0fa6594d8f4cbf19f97940f81e996739fb7646882a419484c72d19e05852a7e"
   }
  }
 },
 "nbformat": 4,
 "nbformat_minor": 2
}
