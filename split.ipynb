{
 "cells": [
  {
   "cell_type": "markdown",
   "metadata": {},
   "source": [
    "# Split dataset\n",
    "\n",
    "Split dataset into train/test/val sets. Saves those sets in dataset directory, under appropriate set sub-directories (e.g. train).\n",
    "\n",
    "Also renames labels and images (adds dataset prefix)."
   ]
  },
  {
   "cell_type": "code",
   "execution_count": 2,
   "metadata": {},
   "outputs": [],
   "source": [
    "import time\n",
    "from tqdm import tqdm\n",
    "from pathlib import Path\n",
    "import numpy as np\n",
    "from iterstrat.ml_stratifiers import MultilabelStratifiedKFold\n",
    "from sklearn.preprocessing import MultiLabelBinarizer"
   ]
  },
  {
   "cell_type": "code",
   "execution_count": 6,
   "metadata": {},
   "outputs": [],
   "source": [
    "# Dataset root directory\n",
    "DATASET_ROOT_DIR: str = \"../datasets/001-COCO-\"\n",
    "\n",
    "# Dataset identifier\n",
    "DATASET_IDENTIFIER: str = \"001-COCO-\"\n",
    "\n",
    "# Labels directory\n",
    "LABELS_DIR: str = \"labels\"\n",
    "\n",
    "# Images directory\n",
    "IMAGES_DIR: str = \"images\"\n",
    "\n",
    "# Train directory name\n",
    "TRAIN_DIR: str = \"train\"\n",
    "\n",
    "# Val directory name\n",
    "VAL_DIR: str = \"val\"\n",
    "\n",
    "# Test directory name\n",
    "TEST_DIR: str = \"test\""
   ]
  },
  {
   "cell_type": "code",
   "execution_count": null,
   "metadata": {},
   "outputs": [],
   "source": [
    "# Add dataset prefix to annotations and images\n",
    "print(\"Renaming labels...\")\n",
    "\n",
    "labels_paths = list(Path(f\"{DATASET_ROOT_DIR}/{LABELS_DIR}\").rglob(\"*.txt\"))\n",
    "\n",
    "for label in tqdm(labels_paths):\n",
    "    if not label.name.startswith(DATASET_IDENTIFIER):\n",
    "        label.rename(Path(label.parent, f\"{DATASET_IDENTIFIER}{label.name}\"))\n",
    "\n",
    "print(\"Renaming images...\")\n",
    "\n",
    "images_paths = list(Path(f\"{DATASET_ROOT_DIR}/{IMAGES_DIR}\").rglob(\"*.jpg\"))\n",
    "\n",
    "for img in tqdm(images_paths):\n",
    "    if not img.name.startswith(DATASET_IDENTIFIER):\n",
    "        img.rename(Path(img.parent, f\"{DATASET_IDENTIFIER}{img.name}\"))\n"
   ]
  },
  {
   "cell_type": "code",
   "execution_count": 30,
   "metadata": {},
   "outputs": [
    {
     "name": "stderr",
     "output_type": "stream",
     "text": [
      "100%|██████████| 39349/39349 [00:03<00:00, 12742.39it/s]\n"
     ]
    }
   ],
   "source": [
    "# Read labels and images\n",
    "labels_paths = list(Path(f\"{DATASET_ROOT_DIR}/{LABELS_DIR}\").rglob(\"*.txt\"))\n",
    "\n",
    "annotations = []\n",
    "classes = []\n",
    "\n",
    "# Dict with labels stem and path objects for later use when moving files\n",
    "annotations_path = {}\n",
    "\n",
    "for label in tqdm(labels_paths):\n",
    "    with open(label, 'r') as f:\n",
    "        cl = []\n",
    "        for line in f:\n",
    "            bbox_class = int(line.strip().split(\" \")[0])\n",
    "            cl.append(bbox_class)\n",
    "        annotations.append(label.stem)\n",
    "        classes.append(cl)\n",
    "        annotations_path[label.stem] = label"
   ]
  },
  {
   "cell_type": "code",
   "execution_count": 16,
   "metadata": {},
   "outputs": [
    {
     "name": "stderr",
     "output_type": "stream",
     "text": [
      "/var/folders/5j/c9443ny96w1dn8fvj92_g8700000gn/T/ipykernel_35021/46562741.py:22: VisibleDeprecationWarning: Creating an ndarray from ragged nested sequences (which is a list-or-tuple of lists-or-tuples-or ndarrays with different lengths or shapes) is deprecated. If you meant to do this, you must specify 'dtype=object' when creating the ndarray.\n",
      "  y = mlb.fit_transform(np.array(classes))\n"
     ]
    }
   ],
   "source": [
    "def mskf_train_test_val_split(X, y):\n",
    "    # Split dataset into train and test\n",
    "    mskf = MultilabelStratifiedKFold(n_splits=5)\n",
    "\n",
    "    train_indexes, test_indexes = next(mskf.split(X, y))\n",
    "\n",
    "    X_train, y_train = X[train_indexes], y[train_indexes]\n",
    "    _X_test, _y_test = X[test_indexes], y[test_indexes]\n",
    "\n",
    "    # Split test into test and validation\n",
    "    mskf = MultilabelStratifiedKFold(n_splits=5)\n",
    "\n",
    "    test_indexes, val_indexes = next(mskf.split(_X_test, _y_test))\n",
    "\n",
    "    X_test, y_test = _X_test[test_indexes], _y_test[test_indexes]\n",
    "    X_val, y_val = _X_test[val_indexes], _y_test[val_indexes]\n",
    "\n",
    "    return X_train, y_train, X_test, y_test, X_val, y_val, train_indexes, test_indexes, val_indexes\n",
    "\n",
    "# Binarize labels to 'multilabel-indicator'\n",
    "mlb = MultiLabelBinarizer()\n",
    "y = mlb.fit_transform(np.array(classes))\n",
    "\n",
    "# Split the dataset (80:20 full dataset to train/test, 80:20 test set to test/val)\n",
    "X_train, y_train, X_test, y_test, X_val, y_val, train_indexes, test_indexes, val_indexes = mskf_train_test_val_split(\n",
    "    np.array(annotations),\n",
    "    y,\n",
    ")"
   ]
  },
  {
   "cell_type": "code",
   "execution_count": null,
   "metadata": {},
   "outputs": [],
   "source": [
    "# Statistics\n",
    "# Note: train/test proportion should be close to 5 (80% / 16% = 5)\n",
    "print(\"Train set shape:\", X_train.shape)\n",
    "print(\"Test set shape\", X_test.shape)\n",
    "print(\"Val test shape:\", X_val.shape)\n",
    "print(\"Class occurences proportion:\", y_train.sum(axis=0) / y_test.sum(axis=0))\n",
    "print(\"Class instances proportion:\", np.bincount(np.concatenate(np.array(classes, dtype=object)[train_indexes])) / np.bincount(np.concatenate(np.array(classes, dtype=object)[test_indexes])))\n",
    "print(\"Train and test images overlap (should be 0):\", np.intersect1d(X_train, X_test).shape)\n",
    "print(\"Test and val overlap:\", np.intersect1d(X_test, X_val).shape)\n",
    "print(\"Val and train overlap:\", np.intersect1d(X_val, X_train).shape)"
   ]
  },
  {
   "cell_type": "code",
   "execution_count": 37,
   "metadata": {},
   "outputs": [
    {
     "name": "stderr",
     "output_type": "stream",
     "text": [
      "100%|██████████| 31521/31521 [00:02<00:00, 11783.30it/s]\n",
      "100%|██████████| 6273/6273 [00:02<00:00, 2802.77it/s]\n",
      "100%|██████████| 1555/1555 [00:00<00:00, 3123.30it/s]\n"
     ]
    }
   ],
   "source": [
    "# Move images and labels to appropriate subdirectory\n",
    "\n",
    "# Make test, train, val if not exist\n",
    "Path(f\"{DATASET_ROOT_DIR}/{IMAGES_DIR}/test\").mkdir(exist_ok=True)\n",
    "Path(f\"{DATASET_ROOT_DIR}/{IMAGES_DIR}/train\").mkdir(exist_ok=True)\n",
    "Path(f\"{DATASET_ROOT_DIR}/{IMAGES_DIR}/val\").mkdir(exist_ok=True)\n",
    "\n",
    "Path(f\"{DATASET_ROOT_DIR}/{LABELS_DIR}/test\").mkdir(exist_ok=True)\n",
    "Path(f\"{DATASET_ROOT_DIR}/{LABELS_DIR}/train\").mkdir(exist_ok=True)\n",
    "Path(f\"{DATASET_ROOT_DIR}/{LABELS_DIR}/val\").mkdir(exist_ok=True)\n",
    "\n",
    "# Move train\n",
    "for file_stem in tqdm(X_train):\n",
    "    file = annotations_path[file_stem]\n",
    "    im = Path(str(file.with_suffix(\".jpg\")).replace(LABELS_DIR, IMAGES_DIR))\n",
    "    file.rename(Path(file.parent.parent, \"train\", file.name))\n",
    "    im.rename(Path(im.parent.parent, \"train\", im.name))\n",
    "\n",
    "# Move test\n",
    "for file_stem in tqdm(X_test):\n",
    "    file = annotations_path[file_stem]\n",
    "    im = Path(str(file.with_suffix(\".jpg\")).replace(LABELS_DIR, IMAGES_DIR))\n",
    "    file.rename(Path(file.parent.parent, \"test\", file.name))\n",
    "    im.rename(Path(im.parent.parent, \"test\", im.name))\n",
    "\n",
    "# Move val\n",
    "for file_stem in tqdm(X_val):\n",
    "    file = annotations_path[file_stem]\n",
    "    im = Path(str(file.with_suffix(\".jpg\")).replace(LABELS_DIR, IMAGES_DIR))\n",
    "    file.rename(Path(file.parent.parent, \"val\", file.name))\n",
    "    im.rename(Path(im.parent.parent, \"val\", im.name))"
   ]
  },
  {
   "cell_type": "code",
   "execution_count": 40,
   "metadata": {},
   "outputs": [
    {
     "name": "stdout",
     "output_type": "stream",
     "text": [
      "True\n",
      "True\n",
      "True\n",
      "True\n",
      "True\n",
      "True\n"
     ]
    }
   ],
   "source": [
    "# Verify if files were moved correctly\n",
    "\n",
    "print(len(list(Path(f\"{DATASET_ROOT_DIR}/{IMAGES_DIR}/train\").rglob(\"*.jpg\"))) == X_train.shape[0])\n",
    "print(len(list(Path(f\"{DATASET_ROOT_DIR}/{LABELS_DIR}/train\").rglob(\"*.txt\"))) == X_train.shape[0])\n",
    "\n",
    "print(len(list(Path(f\"{DATASET_ROOT_DIR}/{IMAGES_DIR}/test\").rglob(\"*.jpg\"))) == X_test.shape[0])\n",
    "print(len(list(Path(f\"{DATASET_ROOT_DIR}/{LABELS_DIR}/test\").rglob(\"*.txt\"))) == X_test.shape[0])\n",
    "\n",
    "print(len(list(Path(f\"{DATASET_ROOT_DIR}/{IMAGES_DIR}/val\").rglob(\"*.jpg\"))) == X_val.shape[0])\n",
    "print(len(list(Path(f\"{DATASET_ROOT_DIR}/{LABELS_DIR}/val\").rglob(\"*.txt\"))) == X_val.shape[0])"
   ]
  }
 ],
 "metadata": {
  "kernelspec": {
   "display_name": "Python 3.10.6 64-bit",
   "language": "python",
   "name": "python3"
  },
  "language_info": {
   "codemirror_mode": {
    "name": "ipython",
    "version": 3
   },
   "file_extension": ".py",
   "mimetype": "text/x-python",
   "name": "python",
   "nbconvert_exporter": "python",
   "pygments_lexer": "ipython3",
   "version": "3.10.6"
  },
  "orig_nbformat": 4,
  "vscode": {
   "interpreter": {
    "hash": "b0fa6594d8f4cbf19f97940f81e996739fb7646882a419484c72d19e05852a7e"
   }
  }
 },
 "nbformat": 4,
 "nbformat_minor": 2
}
